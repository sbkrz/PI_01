{
 "cells": [
  {
   "cell_type": "code",
   "execution_count": 1,
   "metadata": {},
   "outputs": [],
   "source": [
    "import pandas as pd\n",
    "import ast\n",
    "import json"
   ]
  },
  {
   "cell_type": "code",
   "execution_count": 2,
   "metadata": {},
   "outputs": [],
   "source": [
    "movies = pd.read_csv('./movies_dataset.csv')\n",
    "movies_credits = pd.read_csv('./credits.csv')"
   ]
  },
  {
   "cell_type": "code",
   "execution_count": 3,
   "metadata": {},
   "outputs": [
    {
     "data": {
      "text/html": [
       "<div>\n",
       "<style scoped>\n",
       "    .dataframe tbody tr th:only-of-type {\n",
       "        vertical-align: middle;\n",
       "    }\n",
       "\n",
       "    .dataframe tbody tr th {\n",
       "        vertical-align: top;\n",
       "    }\n",
       "\n",
       "    .dataframe thead th {\n",
       "        text-align: right;\n",
       "    }\n",
       "</style>\n",
       "<table border=\"1\" class=\"dataframe\">\n",
       "  <thead>\n",
       "    <tr style=\"text-align: right;\">\n",
       "      <th></th>\n",
       "      <th>belongs_to_collection</th>\n",
       "      <th>budget</th>\n",
       "      <th>genres</th>\n",
       "      <th>id</th>\n",
       "      <th>original_language</th>\n",
       "      <th>overview</th>\n",
       "      <th>popularity</th>\n",
       "      <th>production_companies</th>\n",
       "      <th>production_countries</th>\n",
       "      <th>release_date</th>\n",
       "      <th>...</th>\n",
       "      <th>production_companies_names</th>\n",
       "      <th>production_countries_names</th>\n",
       "      <th>release_year</th>\n",
       "      <th>return</th>\n",
       "      <th>collection_id.1</th>\n",
       "      <th>collection_name.1</th>\n",
       "      <th>collection_poster_path.1</th>\n",
       "      <th>collection_id.2</th>\n",
       "      <th>collection_name.2</th>\n",
       "      <th>collection_poster_path.2</th>\n",
       "    </tr>\n",
       "  </thead>\n",
       "  <tbody>\n",
       "    <tr>\n",
       "      <th>0</th>\n",
       "      <td>{'id': 10194, 'name': 'Toy Story Collection', ...</td>\n",
       "      <td>30000000.0</td>\n",
       "      <td>[{'id': 16, 'name': 'Animation'}, {'id': 35, '...</td>\n",
       "      <td>862</td>\n",
       "      <td>en</td>\n",
       "      <td>Led by Woody, Andy's toys live happily in his ...</td>\n",
       "      <td>21.946943</td>\n",
       "      <td>[{'name': 'Pixar Animation Studios', 'id': 3}]</td>\n",
       "      <td>[{'iso_3166_1': 'US', 'name': 'United States o...</td>\n",
       "      <td>1995-10-30</td>\n",
       "      <td>...</td>\n",
       "      <td>Pixar Animation Studios</td>\n",
       "      <td>United States of America</td>\n",
       "      <td>1995</td>\n",
       "      <td>12.451801</td>\n",
       "      <td>10194.0</td>\n",
       "      <td>Toy Story Collection</td>\n",
       "      <td>/7G9915LfUQ2lVfwMEEhDsn3kT4B.jpg</td>\n",
       "      <td>10194.0</td>\n",
       "      <td>Toy Story Collection</td>\n",
       "      <td>/7G9915LfUQ2lVfwMEEhDsn3kT4B.jpg</td>\n",
       "    </tr>\n",
       "    <tr>\n",
       "      <th>1</th>\n",
       "      <td>{}</td>\n",
       "      <td>65000000.0</td>\n",
       "      <td>[{'id': 12, 'name': 'Adventure'}, {'id': 14, '...</td>\n",
       "      <td>8844</td>\n",
       "      <td>en</td>\n",
       "      <td>When siblings Judy and Peter discover an encha...</td>\n",
       "      <td>17.015539</td>\n",
       "      <td>[{'name': 'TriStar Pictures', 'id': 559}, {'na...</td>\n",
       "      <td>[{'iso_3166_1': 'US', 'name': 'United States o...</td>\n",
       "      <td>1995-12-15</td>\n",
       "      <td>...</td>\n",
       "      <td>TriStar Pictures, Teitler Film, Interscope Com...</td>\n",
       "      <td>United States of America</td>\n",
       "      <td>1995</td>\n",
       "      <td>4.043035</td>\n",
       "      <td>NaN</td>\n",
       "      <td>NaN</td>\n",
       "      <td>NaN</td>\n",
       "      <td>NaN</td>\n",
       "      <td>NaN</td>\n",
       "      <td>NaN</td>\n",
       "    </tr>\n",
       "    <tr>\n",
       "      <th>2</th>\n",
       "      <td>{'id': 119050, 'name': 'Grumpy Old Men Collect...</td>\n",
       "      <td>0.0</td>\n",
       "      <td>[{'id': 10749, 'name': 'Romance'}, {'id': 35, ...</td>\n",
       "      <td>15602</td>\n",
       "      <td>en</td>\n",
       "      <td>A family wedding reignites the ancient feud be...</td>\n",
       "      <td>11.712900</td>\n",
       "      <td>[{'name': 'Warner Bros.', 'id': 6194}, {'name'...</td>\n",
       "      <td>[{'iso_3166_1': 'US', 'name': 'United States o...</td>\n",
       "      <td>1995-12-22</td>\n",
       "      <td>...</td>\n",
       "      <td>Warner Bros., Lancaster Gate</td>\n",
       "      <td>United States of America</td>\n",
       "      <td>1995</td>\n",
       "      <td>0.000000</td>\n",
       "      <td>119050.0</td>\n",
       "      <td>Grumpy Old Men Collection</td>\n",
       "      <td>/nLvUdqgPgm3F85NMCii9gVFUcet.jpg</td>\n",
       "      <td>119050.0</td>\n",
       "      <td>Grumpy Old Men Collection</td>\n",
       "      <td>/nLvUdqgPgm3F85NMCii9gVFUcet.jpg</td>\n",
       "    </tr>\n",
       "    <tr>\n",
       "      <th>3</th>\n",
       "      <td>{}</td>\n",
       "      <td>16000000.0</td>\n",
       "      <td>[{'id': 35, 'name': 'Comedy'}, {'id': 18, 'nam...</td>\n",
       "      <td>31357</td>\n",
       "      <td>en</td>\n",
       "      <td>Cheated on, mistreated and stepped on, the wom...</td>\n",
       "      <td>3.859495</td>\n",
       "      <td>[{'name': 'Twentieth Century Fox Film Corporat...</td>\n",
       "      <td>[{'iso_3166_1': 'US', 'name': 'United States o...</td>\n",
       "      <td>1995-12-22</td>\n",
       "      <td>...</td>\n",
       "      <td>Twentieth Century Fox Film Corporation</td>\n",
       "      <td>United States of America</td>\n",
       "      <td>1995</td>\n",
       "      <td>5.090760</td>\n",
       "      <td>NaN</td>\n",
       "      <td>NaN</td>\n",
       "      <td>NaN</td>\n",
       "      <td>NaN</td>\n",
       "      <td>NaN</td>\n",
       "      <td>NaN</td>\n",
       "    </tr>\n",
       "    <tr>\n",
       "      <th>4</th>\n",
       "      <td>{'id': 96871, 'name': 'Father of the Bride Col...</td>\n",
       "      <td>0.0</td>\n",
       "      <td>[{'id': 35, 'name': 'Comedy'}]</td>\n",
       "      <td>11862</td>\n",
       "      <td>en</td>\n",
       "      <td>Just when George Banks has recovered from his ...</td>\n",
       "      <td>8.387519</td>\n",
       "      <td>[{'name': 'Sandollar Productions', 'id': 5842}...</td>\n",
       "      <td>[{'iso_3166_1': 'US', 'name': 'United States o...</td>\n",
       "      <td>1995-02-10</td>\n",
       "      <td>...</td>\n",
       "      <td>Sandollar Productions, Touchstone Pictures</td>\n",
       "      <td>United States of America</td>\n",
       "      <td>1995</td>\n",
       "      <td>0.000000</td>\n",
       "      <td>96871.0</td>\n",
       "      <td>Father of the Bride Collection</td>\n",
       "      <td>/nts4iOmNnq7GNicycMJ9pSAn204.jpg</td>\n",
       "      <td>96871.0</td>\n",
       "      <td>Father of the Bride Collection</td>\n",
       "      <td>/nts4iOmNnq7GNicycMJ9pSAn204.jpg</td>\n",
       "    </tr>\n",
       "  </tbody>\n",
       "</table>\n",
       "<p>5 rows × 31 columns</p>\n",
       "</div>"
      ],
      "text/plain": [
       "                               belongs_to_collection      budget  \\\n",
       "0  {'id': 10194, 'name': 'Toy Story Collection', ...  30000000.0   \n",
       "1                                                 {}  65000000.0   \n",
       "2  {'id': 119050, 'name': 'Grumpy Old Men Collect...         0.0   \n",
       "3                                                 {}  16000000.0   \n",
       "4  {'id': 96871, 'name': 'Father of the Bride Col...         0.0   \n",
       "\n",
       "                                              genres     id original_language  \\\n",
       "0  [{'id': 16, 'name': 'Animation'}, {'id': 35, '...    862                en   \n",
       "1  [{'id': 12, 'name': 'Adventure'}, {'id': 14, '...   8844                en   \n",
       "2  [{'id': 10749, 'name': 'Romance'}, {'id': 35, ...  15602                en   \n",
       "3  [{'id': 35, 'name': 'Comedy'}, {'id': 18, 'nam...  31357                en   \n",
       "4                     [{'id': 35, 'name': 'Comedy'}]  11862                en   \n",
       "\n",
       "                                            overview  popularity  \\\n",
       "0  Led by Woody, Andy's toys live happily in his ...   21.946943   \n",
       "1  When siblings Judy and Peter discover an encha...   17.015539   \n",
       "2  A family wedding reignites the ancient feud be...   11.712900   \n",
       "3  Cheated on, mistreated and stepped on, the wom...    3.859495   \n",
       "4  Just when George Banks has recovered from his ...    8.387519   \n",
       "\n",
       "                                production_companies  \\\n",
       "0     [{'name': 'Pixar Animation Studios', 'id': 3}]   \n",
       "1  [{'name': 'TriStar Pictures', 'id': 559}, {'na...   \n",
       "2  [{'name': 'Warner Bros.', 'id': 6194}, {'name'...   \n",
       "3  [{'name': 'Twentieth Century Fox Film Corporat...   \n",
       "4  [{'name': 'Sandollar Productions', 'id': 5842}...   \n",
       "\n",
       "                                production_countries release_date  ...  \\\n",
       "0  [{'iso_3166_1': 'US', 'name': 'United States o...   1995-10-30  ...   \n",
       "1  [{'iso_3166_1': 'US', 'name': 'United States o...   1995-12-15  ...   \n",
       "2  [{'iso_3166_1': 'US', 'name': 'United States o...   1995-12-22  ...   \n",
       "3  [{'iso_3166_1': 'US', 'name': 'United States o...   1995-12-22  ...   \n",
       "4  [{'iso_3166_1': 'US', 'name': 'United States o...   1995-02-10  ...   \n",
       "\n",
       "                          production_companies_names  \\\n",
       "0                            Pixar Animation Studios   \n",
       "1  TriStar Pictures, Teitler Film, Interscope Com...   \n",
       "2                       Warner Bros., Lancaster Gate   \n",
       "3             Twentieth Century Fox Film Corporation   \n",
       "4         Sandollar Productions, Touchstone Pictures   \n",
       "\n",
       "   production_countries_names release_year     return collection_id.1  \\\n",
       "0    United States of America         1995  12.451801         10194.0   \n",
       "1    United States of America         1995   4.043035             NaN   \n",
       "2    United States of America         1995   0.000000        119050.0   \n",
       "3    United States of America         1995   5.090760             NaN   \n",
       "4    United States of America         1995   0.000000         96871.0   \n",
       "\n",
       "                collection_name.1          collection_poster_path.1  \\\n",
       "0            Toy Story Collection  /7G9915LfUQ2lVfwMEEhDsn3kT4B.jpg   \n",
       "1                             NaN                               NaN   \n",
       "2       Grumpy Old Men Collection  /nLvUdqgPgm3F85NMCii9gVFUcet.jpg   \n",
       "3                             NaN                               NaN   \n",
       "4  Father of the Bride Collection  /nts4iOmNnq7GNicycMJ9pSAn204.jpg   \n",
       "\n",
       "   collection_id.2               collection_name.2  \\\n",
       "0          10194.0            Toy Story Collection   \n",
       "1              NaN                             NaN   \n",
       "2         119050.0       Grumpy Old Men Collection   \n",
       "3              NaN                             NaN   \n",
       "4          96871.0  Father of the Bride Collection   \n",
       "\n",
       "           collection_poster_path.2  \n",
       "0  /7G9915LfUQ2lVfwMEEhDsn3kT4B.jpg  \n",
       "1                               NaN  \n",
       "2  /nLvUdqgPgm3F85NMCii9gVFUcet.jpg  \n",
       "3                               NaN  \n",
       "4  /nts4iOmNnq7GNicycMJ9pSAn204.jpg  \n",
       "\n",
       "[5 rows x 31 columns]"
      ]
     },
     "execution_count": 3,
     "metadata": {},
     "output_type": "execute_result"
    }
   ],
   "source": [
    "#revisamos el contenido de cada dataset: \n",
    "movies.head()"
   ]
  },
  {
   "cell_type": "code",
   "execution_count": 4,
   "metadata": {},
   "outputs": [
    {
     "data": {
      "text/html": [
       "<div>\n",
       "<style scoped>\n",
       "    .dataframe tbody tr th:only-of-type {\n",
       "        vertical-align: middle;\n",
       "    }\n",
       "\n",
       "    .dataframe tbody tr th {\n",
       "        vertical-align: top;\n",
       "    }\n",
       "\n",
       "    .dataframe thead th {\n",
       "        text-align: right;\n",
       "    }\n",
       "</style>\n",
       "<table border=\"1\" class=\"dataframe\">\n",
       "  <thead>\n",
       "    <tr style=\"text-align: right;\">\n",
       "      <th></th>\n",
       "      <th>cast</th>\n",
       "      <th>crew</th>\n",
       "      <th>id</th>\n",
       "      <th>cast_id</th>\n",
       "      <th>character</th>\n",
       "      <th>credit_id</th>\n",
       "      <th>gender</th>\n",
       "      <th>id_cast</th>\n",
       "      <th>name</th>\n",
       "      <th>order</th>\n",
       "      <th>profile_path</th>\n",
       "      <th>credit_id_crew</th>\n",
       "      <th>department</th>\n",
       "      <th>gender_crew</th>\n",
       "      <th>id_crew</th>\n",
       "      <th>job</th>\n",
       "      <th>name_crew</th>\n",
       "      <th>profile_path_crew</th>\n",
       "    </tr>\n",
       "  </thead>\n",
       "  <tbody>\n",
       "    <tr>\n",
       "      <th>0</th>\n",
       "      <td>[{'cast_id': 14, 'character': 'Woody (voice)',...</td>\n",
       "      <td>[{'credit_id': '52fe4284c3a36847f8024f49', 'de...</td>\n",
       "      <td>862</td>\n",
       "      <td>14.0</td>\n",
       "      <td>Woody (voice)</td>\n",
       "      <td>52fe4284c3a36847f8024f95</td>\n",
       "      <td>2.0</td>\n",
       "      <td>31.0</td>\n",
       "      <td>Tom Hanks</td>\n",
       "      <td>0.0</td>\n",
       "      <td>/pQFoyx7rp09CJTAb932F2g8Nlho.jpg</td>\n",
       "      <td>52fe4284c3a36847f8024f49</td>\n",
       "      <td>Directing</td>\n",
       "      <td>2.0</td>\n",
       "      <td>7879.0</td>\n",
       "      <td>Director</td>\n",
       "      <td>John Lasseter</td>\n",
       "      <td>/7EdqiNbr4FRjIhKHyPPdFfEEEFG.jpg</td>\n",
       "    </tr>\n",
       "    <tr>\n",
       "      <th>1</th>\n",
       "      <td>[{'cast_id': 1, 'character': 'Alan Parrish', '...</td>\n",
       "      <td>[{'credit_id': '52fe44bfc3a36847f80a7cd1', 'de...</td>\n",
       "      <td>8844</td>\n",
       "      <td>15.0</td>\n",
       "      <td>Buzz Lightyear (voice)</td>\n",
       "      <td>52fe4284c3a36847f8024f99</td>\n",
       "      <td>2.0</td>\n",
       "      <td>12898.0</td>\n",
       "      <td>Tim Allen</td>\n",
       "      <td>1.0</td>\n",
       "      <td>/uX2xVf6pMmPepxnvFWyBtjexzgY.jpg</td>\n",
       "      <td>52fe4284c3a36847f8024f4f</td>\n",
       "      <td>Writing</td>\n",
       "      <td>2.0</td>\n",
       "      <td>12891.0</td>\n",
       "      <td>Screenplay</td>\n",
       "      <td>Joss Whedon</td>\n",
       "      <td>/dTiVsuaTVTeGmvkhcyJvKp2A5kr.jpg</td>\n",
       "    </tr>\n",
       "    <tr>\n",
       "      <th>2</th>\n",
       "      <td>[{'cast_id': 2, 'character': 'Max Goldman', 'c...</td>\n",
       "      <td>[{'credit_id': '52fe466a9251416c75077a89', 'de...</td>\n",
       "      <td>15602</td>\n",
       "      <td>16.0</td>\n",
       "      <td>Mr. Potato Head (voice)</td>\n",
       "      <td>52fe4284c3a36847f8024f9d</td>\n",
       "      <td>2.0</td>\n",
       "      <td>7167.0</td>\n",
       "      <td>Don Rickles</td>\n",
       "      <td>2.0</td>\n",
       "      <td>/h5BcaDMPRVLHLDzbQavec4xfSdt.jpg</td>\n",
       "      <td>52fe4284c3a36847f8024f55</td>\n",
       "      <td>Writing</td>\n",
       "      <td>2.0</td>\n",
       "      <td>7.0</td>\n",
       "      <td>Screenplay</td>\n",
       "      <td>Andrew Stanton</td>\n",
       "      <td>/pvQWsu0qc8JFQhMVJkTHuexUAa1.jpg</td>\n",
       "    </tr>\n",
       "    <tr>\n",
       "      <th>3</th>\n",
       "      <td>[{'cast_id': 1, 'character': \"Savannah 'Vannah...</td>\n",
       "      <td>[{'credit_id': '52fe44779251416c91011acb', 'de...</td>\n",
       "      <td>31357</td>\n",
       "      <td>17.0</td>\n",
       "      <td>Slinky Dog (voice)</td>\n",
       "      <td>52fe4284c3a36847f8024fa1</td>\n",
       "      <td>2.0</td>\n",
       "      <td>12899.0</td>\n",
       "      <td>Jim Varney</td>\n",
       "      <td>3.0</td>\n",
       "      <td>/eIo2jVVXYgjDtaHoF19Ll9vtW7h.jpg</td>\n",
       "      <td>52fe4284c3a36847f8024f5b</td>\n",
       "      <td>Writing</td>\n",
       "      <td>2.0</td>\n",
       "      <td>12892.0</td>\n",
       "      <td>Screenplay</td>\n",
       "      <td>Joel Cohen</td>\n",
       "      <td>/dAubAiZcvKFbboWlj7oXOkZnTSu.jpg</td>\n",
       "    </tr>\n",
       "    <tr>\n",
       "      <th>4</th>\n",
       "      <td>[{'cast_id': 1, 'character': 'George Banks', '...</td>\n",
       "      <td>[{'credit_id': '52fe44959251416c75039ed7', 'de...</td>\n",
       "      <td>11862</td>\n",
       "      <td>18.0</td>\n",
       "      <td>Rex (voice)</td>\n",
       "      <td>52fe4284c3a36847f8024fa5</td>\n",
       "      <td>2.0</td>\n",
       "      <td>12900.0</td>\n",
       "      <td>Wallace Shawn</td>\n",
       "      <td>4.0</td>\n",
       "      <td>/oGE6JqPP2xH4tNORKNqxbNPYi7u.jpg</td>\n",
       "      <td>52fe4284c3a36847f8024f61</td>\n",
       "      <td>Writing</td>\n",
       "      <td>0.0</td>\n",
       "      <td>12893.0</td>\n",
       "      <td>Screenplay</td>\n",
       "      <td>Alec Sokolow</td>\n",
       "      <td>/v79vlRYi94BZUQnkkyznbGUZLjT.jpg</td>\n",
       "    </tr>\n",
       "  </tbody>\n",
       "</table>\n",
       "</div>"
      ],
      "text/plain": [
       "                                                cast  \\\n",
       "0  [{'cast_id': 14, 'character': 'Woody (voice)',...   \n",
       "1  [{'cast_id': 1, 'character': 'Alan Parrish', '...   \n",
       "2  [{'cast_id': 2, 'character': 'Max Goldman', 'c...   \n",
       "3  [{'cast_id': 1, 'character': \"Savannah 'Vannah...   \n",
       "4  [{'cast_id': 1, 'character': 'George Banks', '...   \n",
       "\n",
       "                                                crew     id  cast_id  \\\n",
       "0  [{'credit_id': '52fe4284c3a36847f8024f49', 'de...    862     14.0   \n",
       "1  [{'credit_id': '52fe44bfc3a36847f80a7cd1', 'de...   8844     15.0   \n",
       "2  [{'credit_id': '52fe466a9251416c75077a89', 'de...  15602     16.0   \n",
       "3  [{'credit_id': '52fe44779251416c91011acb', 'de...  31357     17.0   \n",
       "4  [{'credit_id': '52fe44959251416c75039ed7', 'de...  11862     18.0   \n",
       "\n",
       "                 character                 credit_id  gender  id_cast  \\\n",
       "0            Woody (voice)  52fe4284c3a36847f8024f95     2.0     31.0   \n",
       "1   Buzz Lightyear (voice)  52fe4284c3a36847f8024f99     2.0  12898.0   \n",
       "2  Mr. Potato Head (voice)  52fe4284c3a36847f8024f9d     2.0   7167.0   \n",
       "3       Slinky Dog (voice)  52fe4284c3a36847f8024fa1     2.0  12899.0   \n",
       "4              Rex (voice)  52fe4284c3a36847f8024fa5     2.0  12900.0   \n",
       "\n",
       "            name  order                      profile_path  \\\n",
       "0      Tom Hanks    0.0  /pQFoyx7rp09CJTAb932F2g8Nlho.jpg   \n",
       "1      Tim Allen    1.0  /uX2xVf6pMmPepxnvFWyBtjexzgY.jpg   \n",
       "2    Don Rickles    2.0  /h5BcaDMPRVLHLDzbQavec4xfSdt.jpg   \n",
       "3     Jim Varney    3.0  /eIo2jVVXYgjDtaHoF19Ll9vtW7h.jpg   \n",
       "4  Wallace Shawn    4.0  /oGE6JqPP2xH4tNORKNqxbNPYi7u.jpg   \n",
       "\n",
       "             credit_id_crew department  gender_crew  id_crew         job  \\\n",
       "0  52fe4284c3a36847f8024f49  Directing          2.0   7879.0    Director   \n",
       "1  52fe4284c3a36847f8024f4f    Writing          2.0  12891.0  Screenplay   \n",
       "2  52fe4284c3a36847f8024f55    Writing          2.0      7.0  Screenplay   \n",
       "3  52fe4284c3a36847f8024f5b    Writing          2.0  12892.0  Screenplay   \n",
       "4  52fe4284c3a36847f8024f61    Writing          0.0  12893.0  Screenplay   \n",
       "\n",
       "        name_crew                 profile_path_crew  \n",
       "0   John Lasseter  /7EdqiNbr4FRjIhKHyPPdFfEEEFG.jpg  \n",
       "1     Joss Whedon  /dTiVsuaTVTeGmvkhcyJvKp2A5kr.jpg  \n",
       "2  Andrew Stanton  /pvQWsu0qc8JFQhMVJkTHuexUAa1.jpg  \n",
       "3      Joel Cohen  /dAubAiZcvKFbboWlj7oXOkZnTSu.jpg  \n",
       "4    Alec Sokolow  /v79vlRYi94BZUQnkkyznbGUZLjT.jpg  "
      ]
     },
     "execution_count": 4,
     "metadata": {},
     "output_type": "execute_result"
    }
   ],
   "source": [
    "movies_credits.head()"
   ]
  },
  {
   "cell_type": "code",
   "execution_count": 5,
   "metadata": {},
   "outputs": [],
   "source": [
    "# Función para cargar JSON y manejar excepciones\n",
    "def load_json(x):\n",
    "    if isinstance(x, str):  # Asegurarse de que x sea una cadena\n",
    "        try:\n",
    "            return json.loads(x.replace(\"'\", '\"'))\n",
    "        except json.JSONDecodeError:\n",
    "            return {}\n",
    "    return {}"
   ]
  },
  {
   "cell_type": "code",
   "execution_count": 6,
   "metadata": {},
   "outputs": [],
   "source": [
    "movies['belongs_to_collection'] = movies['belongs_to_collection'].apply(load_json) #Aplicamos la función load_json a la columna"
   ]
  },
  {
   "cell_type": "code",
   "execution_count": 7,
   "metadata": {},
   "outputs": [],
   "source": [
    "def extract_collection_info(x): #Función para desanidar, manejando nulos y tipos\n",
    "    if isinstance(x, dict) and 'id' in x and 'name' in x:\n",
    "        return pd.Series({\n",
    "            'collection_id': x['id'],\n",
    "            'collection_name': x['name'],\n",
    "            'collection_poster_path': x.get('poster_path')\n",
    "        })\n",
    "    else:\n",
    "        return pd.Series({\n",
    "            'collection_id': None,\n",
    "            'collection_name': None,\n",
    "            'collection_poster_path': None\n",
    "        })"
   ]
  },
  {
   "cell_type": "code",
   "execution_count": 8,
   "metadata": {},
   "outputs": [],
   "source": [
    "collection_info = movies['belongs_to_collection'].apply(extract_collection_info)\n",
    "movies = pd.concat([movies, collection_info], axis=1) #Aplicamos la función, y unimos al DF original"
   ]
  },
  {
   "cell_type": "code",
   "execution_count": 11,
   "metadata": {},
   "outputs": [
    {
     "name": "stdout",
     "output_type": "stream",
     "text": [
      "0    {'id': 10194, 'name': 'Toy Story Collection', ...\n",
      "1                                                   {}\n",
      "2    {'id': 119050, 'name': 'Grumpy Old Men Collect...\n",
      "3                                                   {}\n",
      "4    {'id': 96871, 'name': 'Father of the Bride Col...\n",
      "Name: belongs_to_collection, dtype: object\n"
     ]
    }
   ],
   "source": [
    "print(movies['belongs_to_collection'].head(5))"
   ]
  },
  {
   "cell_type": "code",
   "execution_count": 12,
   "metadata": {},
   "outputs": [],
   "source": [
    "movies['genres'] = movies['genres'].apply(load_json)\n",
    "genres_exploded = movies['genres'].explode()\n",
    "genres_exploded = genres_exploded.dropna().apply(pd.Series)\n",
    "genres_exploded = genres_exploded.dropna()\n",
    "genres_normalized = pd.json_normalize(genres_exploded)"
   ]
  },
  {
   "cell_type": "code",
   "execution_count": 13,
   "metadata": {},
   "outputs": [
    {
     "name": "stdout",
     "output_type": "stream",
     "text": [
      "0    {}\n",
      "1    {}\n",
      "2    {}\n",
      "3    {}\n",
      "4    {}\n",
      "Name: genres, dtype: object\n"
     ]
    }
   ],
   "source": [
    "print(movies['genres'].head(5)) #Chequeamos que se hayan desanidado los datos correctamente."
   ]
  },
  {
   "cell_type": "code",
   "execution_count": 14,
   "metadata": {},
   "outputs": [],
   "source": [
    "def load_json_list(x): #Función para ver si los valores son cadenas o ya son diccionarios/listas de diccionarios\n",
    "    if isinstance(x, str):\n",
    "        try:\n",
    "            return json.loads(x.replace(\"'\", \"\\\"\"))\n",
    "        except (json.JSONDecodeError, TypeError):\n",
    "            return []\n",
    "    elif isinstance(x, (dict, list)):\n",
    "        return x\n",
    "    else:\n",
    "        return []"
   ]
  },
  {
   "cell_type": "code",
   "execution_count": 15,
   "metadata": {},
   "outputs": [],
   "source": [
    "movies['production_companies'] = movies['production_companies'].apply(load_json_list) #Aplicamos la función load_json_list a la columna a desanidar"
   ]
  },
  {
   "cell_type": "code",
   "execution_count": 16,
   "metadata": {},
   "outputs": [],
   "source": [
    "def get_company_names(companies): #Función para desanidar y transformar los datos de production_companies\n",
    "    if isinstance(companies, list):\n",
    "        return ', '.join([company.get('name', '') for company in companies if isinstance(company, dict)])\n",
    "    return None"
   ]
  },
  {
   "cell_type": "code",
   "execution_count": 17,
   "metadata": {},
   "outputs": [],
   "source": [
    "movies['production_companies_names'] = movies['production_companies'].apply(get_company_names) #Aplicamos la función y creamos una nueva columna donde guardar los datos"
   ]
  },
  {
   "cell_type": "code",
   "execution_count": 18,
   "metadata": {},
   "outputs": [
    {
     "name": "stdout",
     "output_type": "stream",
     "text": [
      "0                              Pixar Animation Studios\n",
      "1    TriStar Pictures, Teitler Film, Interscope Com...\n",
      "2                         Warner Bros., Lancaster Gate\n",
      "3               Twentieth Century Fox Film Corporation\n",
      "4           Sandollar Productions, Touchstone Pictures\n",
      "Name: production_companies_names, dtype: object\n"
     ]
    }
   ],
   "source": [
    "print(movies['production_companies_names'].head(5)) #Chequeamos que se hayan desanidado los datos correctamente."
   ]
  },
  {
   "cell_type": "code",
   "execution_count": 19,
   "metadata": {},
   "outputs": [],
   "source": [
    "movies['production_countries'] = movies['production_countries'].apply(load_json_list) #Aplicamos la función load_json_list a la siguiente columna a desanidar."
   ]
  },
  {
   "cell_type": "code",
   "execution_count": 20,
   "metadata": {},
   "outputs": [],
   "source": [
    "def get_country_names(countries): #Función para desanidar y transformar los datos de production_countries\n",
    "    if isinstance(countries, list):\n",
    "        return ', '.join([country.get('name', '') for country in countries if isinstance(country, dict)])\n",
    "    return None"
   ]
  },
  {
   "cell_type": "code",
   "execution_count": 21,
   "metadata": {},
   "outputs": [],
   "source": [
    "movies['production_countries_names'] = movies['production_countries'].apply(get_country_names) #Aplicamos la función y creammos la columna nueva"
   ]
  },
  {
   "cell_type": "code",
   "execution_count": 22,
   "metadata": {},
   "outputs": [
    {
     "name": "stdout",
     "output_type": "stream",
     "text": [
      "0    United States of America\n",
      "1    United States of America\n",
      "2    United States of America\n",
      "3    United States of America\n",
      "4    United States of America\n",
      "Name: production_countries_names, dtype: object\n"
     ]
    }
   ],
   "source": [
    "print(movies['production_countries_names'].head(5)) #Chequeamos que se hayan desanidado los datos correctamente."
   ]
  },
  {
   "cell_type": "code",
   "execution_count": 23,
   "metadata": {},
   "outputs": [],
   "source": [
    "movies['revenue'] = movies['revenue'].fillna(0) #Rellenamos los valores nulos en 'revenue' y 'budget' con 0\n",
    "movies['budget'] = movies['budget'].fillna(0)"
   ]
  },
  {
   "cell_type": "code",
   "execution_count": 24,
   "metadata": {},
   "outputs": [
    {
     "name": "stdout",
     "output_type": "stream",
     "text": [
      "0    373554033.0\n",
      "1    262797249.0\n",
      "2            0.0\n",
      "3     81452156.0\n",
      "4     76578911.0\n",
      "Name: revenue, dtype: float64\n"
     ]
    }
   ],
   "source": [
    "print(movies['revenue'].head(5))"
   ]
  },
  {
   "cell_type": "code",
   "execution_count": 25,
   "metadata": {},
   "outputs": [
    {
     "name": "stdout",
     "output_type": "stream",
     "text": [
      "0    30000000.0\n",
      "1    65000000.0\n",
      "2           0.0\n",
      "3    16000000.0\n",
      "4           0.0\n",
      "Name: budget, dtype: float64\n"
     ]
    }
   ],
   "source": [
    "print(movies['budget'].head(5))"
   ]
  },
  {
   "cell_type": "code",
   "execution_count": 26,
   "metadata": {},
   "outputs": [],
   "source": [
    "movies = movies.dropna(subset=['release_date']) #Eliminamos los valores nulos del campo release_date"
   ]
  },
  {
   "cell_type": "code",
   "execution_count": 27,
   "metadata": {},
   "outputs": [],
   "source": [
    "movies['release_date'] = pd.to_datetime(movies['release_date'], errors='coerce').dt.strftime('%Y-%m-%d') #Convertimos 'release_date' al formato AAAA-mm-dd si es necesario"
   ]
  },
  {
   "cell_type": "code",
   "execution_count": 28,
   "metadata": {},
   "outputs": [],
   "source": [
    "movies['release_year'] = pd.to_datetime(movies['release_date'], errors='coerce').dt.year #Creamos la columna 'release_year' extrayendo el año de 'release_date'"
   ]
  },
  {
   "cell_type": "code",
   "execution_count": 29,
   "metadata": {},
   "outputs": [],
   "source": [
    "movies['release_year'] = movies['release_year'].fillna(0).astype(int)"
   ]
  },
  {
   "cell_type": "code",
   "execution_count": 30,
   "metadata": {},
   "outputs": [
    {
     "name": "stdout",
     "output_type": "stream",
     "text": [
      "0    1995-10-30\n",
      "1    1995-12-15\n",
      "2    1995-12-22\n",
      "3    1995-12-22\n",
      "4    1995-02-10\n",
      "Name: release_date, dtype: object\n"
     ]
    }
   ],
   "source": [
    "print(movies['release_date'].head(5)) #Chequeamos "
   ]
  },
  {
   "cell_type": "code",
   "execution_count": 31,
   "metadata": {},
   "outputs": [
    {
     "name": "stdout",
     "output_type": "stream",
     "text": [
      "0    1995\n",
      "1    1995\n",
      "2    1995\n",
      "3    1995\n",
      "4    1995\n",
      "Name: release_year, dtype: int32\n"
     ]
    }
   ],
   "source": [
    "print(movies['release_year'].head(5)) "
   ]
  },
  {
   "cell_type": "code",
   "execution_count": 32,
   "metadata": {},
   "outputs": [],
   "source": [
    "def convert_to_float(value): #Función para convertir las columnas revenue y budget a float para facilitar el cálculo\n",
    "    try:\n",
    "        return float(value)\n",
    "    except (ValueError, TypeError):\n",
    "        return 0.0"
   ]
  },
  {
   "cell_type": "code",
   "execution_count": 33,
   "metadata": {},
   "outputs": [],
   "source": [
    "movies['revenue'] = movies['revenue'].apply(convert_to_float) #Aplicamos la función\n",
    "movies['budget'] = movies['budget'].apply(convert_to_float) "
   ]
  },
  {
   "cell_type": "code",
   "execution_count": 34,
   "metadata": {},
   "outputs": [],
   "source": [
    "movies['return'] = movies.apply(lambda row: row['revenue'] / row['budget'] if row['budget'] != 0 else 0, axis=1) #Calculamos el ROI"
   ]
  },
  {
   "cell_type": "code",
   "execution_count": 35,
   "metadata": {},
   "outputs": [
    {
     "name": "stdout",
     "output_type": "stream",
     "text": [
      "       revenue      budget     return\n",
      "0  373554033.0  30000000.0  12.451801\n",
      "1  262797249.0  65000000.0   4.043035\n",
      "2          0.0         0.0   0.000000\n",
      "3   81452156.0  16000000.0   5.090760\n",
      "4   76578911.0         0.0   0.000000\n"
     ]
    }
   ],
   "source": [
    "print(movies[['revenue', 'budget', 'return']].head(5))"
   ]
  },
  {
   "cell_type": "code",
   "execution_count": null,
   "metadata": {},
   "outputs": [],
   "source": [
    "columnnas_a_eliminar = ['video', 'imdb_id', 'adult', 'original_title', 'poster_path', 'homepage'] #Creamos una lista para las columnas a eliminar\n",
    "movies = movies.drop(columnnas_a_eliminar, axis=1)"
   ]
  },
  {
   "cell_type": "code",
   "execution_count": 37,
   "metadata": {},
   "outputs": [
    {
     "data": {
      "text/html": [
       "<div>\n",
       "<style scoped>\n",
       "    .dataframe tbody tr th:only-of-type {\n",
       "        vertical-align: middle;\n",
       "    }\n",
       "\n",
       "    .dataframe tbody tr th {\n",
       "        vertical-align: top;\n",
       "    }\n",
       "\n",
       "    .dataframe thead th {\n",
       "        text-align: right;\n",
       "    }\n",
       "</style>\n",
       "<table border=\"1\" class=\"dataframe\">\n",
       "  <thead>\n",
       "    <tr style=\"text-align: right;\">\n",
       "      <th></th>\n",
       "      <th>belongs_to_collection</th>\n",
       "      <th>budget</th>\n",
       "      <th>genres</th>\n",
       "      <th>id</th>\n",
       "      <th>original_language</th>\n",
       "      <th>overview</th>\n",
       "      <th>popularity</th>\n",
       "      <th>production_companies</th>\n",
       "      <th>production_countries</th>\n",
       "      <th>release_date</th>\n",
       "      <th>...</th>\n",
       "      <th>return</th>\n",
       "      <th>collection_id.1</th>\n",
       "      <th>collection_name.1</th>\n",
       "      <th>collection_poster_path.1</th>\n",
       "      <th>collection_id.2</th>\n",
       "      <th>collection_name.2</th>\n",
       "      <th>collection_poster_path.2</th>\n",
       "      <th>collection_id</th>\n",
       "      <th>collection_name</th>\n",
       "      <th>collection_poster_path</th>\n",
       "    </tr>\n",
       "  </thead>\n",
       "  <tbody>\n",
       "    <tr>\n",
       "      <th>0</th>\n",
       "      <td>{'id': 10194, 'name': 'Toy Story Collection', ...</td>\n",
       "      <td>30000000.0</td>\n",
       "      <td>{}</td>\n",
       "      <td>862</td>\n",
       "      <td>en</td>\n",
       "      <td>Led by Woody, Andy's toys live happily in his ...</td>\n",
       "      <td>21.946943</td>\n",
       "      <td>[{'name': 'Pixar Animation Studios', 'id': 3}]</td>\n",
       "      <td>[{'iso_3166_1': 'US', 'name': 'United States o...</td>\n",
       "      <td>1995-10-30</td>\n",
       "      <td>...</td>\n",
       "      <td>12.451801</td>\n",
       "      <td>10194.0</td>\n",
       "      <td>Toy Story Collection</td>\n",
       "      <td>/7G9915LfUQ2lVfwMEEhDsn3kT4B.jpg</td>\n",
       "      <td>10194.0</td>\n",
       "      <td>Toy Story Collection</td>\n",
       "      <td>/7G9915LfUQ2lVfwMEEhDsn3kT4B.jpg</td>\n",
       "      <td>10194.0</td>\n",
       "      <td>Toy Story Collection</td>\n",
       "      <td>/7G9915LfUQ2lVfwMEEhDsn3kT4B.jpg</td>\n",
       "    </tr>\n",
       "    <tr>\n",
       "      <th>1</th>\n",
       "      <td>{}</td>\n",
       "      <td>65000000.0</td>\n",
       "      <td>{}</td>\n",
       "      <td>8844</td>\n",
       "      <td>en</td>\n",
       "      <td>When siblings Judy and Peter discover an encha...</td>\n",
       "      <td>17.015539</td>\n",
       "      <td>[{'name': 'TriStar Pictures', 'id': 559}, {'na...</td>\n",
       "      <td>[{'iso_3166_1': 'US', 'name': 'United States o...</td>\n",
       "      <td>1995-12-15</td>\n",
       "      <td>...</td>\n",
       "      <td>4.043035</td>\n",
       "      <td>NaN</td>\n",
       "      <td>NaN</td>\n",
       "      <td>NaN</td>\n",
       "      <td>NaN</td>\n",
       "      <td>NaN</td>\n",
       "      <td>NaN</td>\n",
       "      <td>NaN</td>\n",
       "      <td>None</td>\n",
       "      <td>None</td>\n",
       "    </tr>\n",
       "    <tr>\n",
       "      <th>2</th>\n",
       "      <td>{'id': 119050, 'name': 'Grumpy Old Men Collect...</td>\n",
       "      <td>0.0</td>\n",
       "      <td>{}</td>\n",
       "      <td>15602</td>\n",
       "      <td>en</td>\n",
       "      <td>A family wedding reignites the ancient feud be...</td>\n",
       "      <td>11.712900</td>\n",
       "      <td>[{'name': 'Warner Bros.', 'id': 6194}, {'name'...</td>\n",
       "      <td>[{'iso_3166_1': 'US', 'name': 'United States o...</td>\n",
       "      <td>1995-12-22</td>\n",
       "      <td>...</td>\n",
       "      <td>0.000000</td>\n",
       "      <td>119050.0</td>\n",
       "      <td>Grumpy Old Men Collection</td>\n",
       "      <td>/nLvUdqgPgm3F85NMCii9gVFUcet.jpg</td>\n",
       "      <td>119050.0</td>\n",
       "      <td>Grumpy Old Men Collection</td>\n",
       "      <td>/nLvUdqgPgm3F85NMCii9gVFUcet.jpg</td>\n",
       "      <td>119050.0</td>\n",
       "      <td>Grumpy Old Men Collection</td>\n",
       "      <td>/nLvUdqgPgm3F85NMCii9gVFUcet.jpg</td>\n",
       "    </tr>\n",
       "    <tr>\n",
       "      <th>3</th>\n",
       "      <td>{}</td>\n",
       "      <td>16000000.0</td>\n",
       "      <td>{}</td>\n",
       "      <td>31357</td>\n",
       "      <td>en</td>\n",
       "      <td>Cheated on, mistreated and stepped on, the wom...</td>\n",
       "      <td>3.859495</td>\n",
       "      <td>[{'name': 'Twentieth Century Fox Film Corporat...</td>\n",
       "      <td>[{'iso_3166_1': 'US', 'name': 'United States o...</td>\n",
       "      <td>1995-12-22</td>\n",
       "      <td>...</td>\n",
       "      <td>5.090760</td>\n",
       "      <td>NaN</td>\n",
       "      <td>NaN</td>\n",
       "      <td>NaN</td>\n",
       "      <td>NaN</td>\n",
       "      <td>NaN</td>\n",
       "      <td>NaN</td>\n",
       "      <td>NaN</td>\n",
       "      <td>None</td>\n",
       "      <td>None</td>\n",
       "    </tr>\n",
       "    <tr>\n",
       "      <th>4</th>\n",
       "      <td>{'id': 96871, 'name': 'Father of the Bride Col...</td>\n",
       "      <td>0.0</td>\n",
       "      <td>{}</td>\n",
       "      <td>11862</td>\n",
       "      <td>en</td>\n",
       "      <td>Just when George Banks has recovered from his ...</td>\n",
       "      <td>8.387519</td>\n",
       "      <td>[{'name': 'Sandollar Productions', 'id': 5842}...</td>\n",
       "      <td>[{'iso_3166_1': 'US', 'name': 'United States o...</td>\n",
       "      <td>1995-02-10</td>\n",
       "      <td>...</td>\n",
       "      <td>0.000000</td>\n",
       "      <td>96871.0</td>\n",
       "      <td>Father of the Bride Collection</td>\n",
       "      <td>/nts4iOmNnq7GNicycMJ9pSAn204.jpg</td>\n",
       "      <td>96871.0</td>\n",
       "      <td>Father of the Bride Collection</td>\n",
       "      <td>/nts4iOmNnq7GNicycMJ9pSAn204.jpg</td>\n",
       "      <td>96871.0</td>\n",
       "      <td>Father of the Bride Collection</td>\n",
       "      <td>/nts4iOmNnq7GNicycMJ9pSAn204.jpg</td>\n",
       "    </tr>\n",
       "  </tbody>\n",
       "</table>\n",
       "<p>5 rows × 34 columns</p>\n",
       "</div>"
      ],
      "text/plain": [
       "                               belongs_to_collection      budget genres  \\\n",
       "0  {'id': 10194, 'name': 'Toy Story Collection', ...  30000000.0     {}   \n",
       "1                                                 {}  65000000.0     {}   \n",
       "2  {'id': 119050, 'name': 'Grumpy Old Men Collect...         0.0     {}   \n",
       "3                                                 {}  16000000.0     {}   \n",
       "4  {'id': 96871, 'name': 'Father of the Bride Col...         0.0     {}   \n",
       "\n",
       "      id original_language                                           overview  \\\n",
       "0    862                en  Led by Woody, Andy's toys live happily in his ...   \n",
       "1   8844                en  When siblings Judy and Peter discover an encha...   \n",
       "2  15602                en  A family wedding reignites the ancient feud be...   \n",
       "3  31357                en  Cheated on, mistreated and stepped on, the wom...   \n",
       "4  11862                en  Just when George Banks has recovered from his ...   \n",
       "\n",
       "   popularity                               production_companies  \\\n",
       "0   21.946943     [{'name': 'Pixar Animation Studios', 'id': 3}]   \n",
       "1   17.015539  [{'name': 'TriStar Pictures', 'id': 559}, {'na...   \n",
       "2   11.712900  [{'name': 'Warner Bros.', 'id': 6194}, {'name'...   \n",
       "3    3.859495  [{'name': 'Twentieth Century Fox Film Corporat...   \n",
       "4    8.387519  [{'name': 'Sandollar Productions', 'id': 5842}...   \n",
       "\n",
       "                                production_countries release_date  ...  \\\n",
       "0  [{'iso_3166_1': 'US', 'name': 'United States o...   1995-10-30  ...   \n",
       "1  [{'iso_3166_1': 'US', 'name': 'United States o...   1995-12-15  ...   \n",
       "2  [{'iso_3166_1': 'US', 'name': 'United States o...   1995-12-22  ...   \n",
       "3  [{'iso_3166_1': 'US', 'name': 'United States o...   1995-12-22  ...   \n",
       "4  [{'iso_3166_1': 'US', 'name': 'United States o...   1995-02-10  ...   \n",
       "\n",
       "      return  collection_id.1               collection_name.1  \\\n",
       "0  12.451801          10194.0            Toy Story Collection   \n",
       "1   4.043035              NaN                             NaN   \n",
       "2   0.000000         119050.0       Grumpy Old Men Collection   \n",
       "3   5.090760              NaN                             NaN   \n",
       "4   0.000000          96871.0  Father of the Bride Collection   \n",
       "\n",
       "           collection_poster_path.1 collection_id.2  \\\n",
       "0  /7G9915LfUQ2lVfwMEEhDsn3kT4B.jpg         10194.0   \n",
       "1                               NaN             NaN   \n",
       "2  /nLvUdqgPgm3F85NMCii9gVFUcet.jpg        119050.0   \n",
       "3                               NaN             NaN   \n",
       "4  /nts4iOmNnq7GNicycMJ9pSAn204.jpg         96871.0   \n",
       "\n",
       "                collection_name.2          collection_poster_path.2  \\\n",
       "0            Toy Story Collection  /7G9915LfUQ2lVfwMEEhDsn3kT4B.jpg   \n",
       "1                             NaN                               NaN   \n",
       "2       Grumpy Old Men Collection  /nLvUdqgPgm3F85NMCii9gVFUcet.jpg   \n",
       "3                             NaN                               NaN   \n",
       "4  Father of the Bride Collection  /nts4iOmNnq7GNicycMJ9pSAn204.jpg   \n",
       "\n",
       "   collection_id                 collection_name  \\\n",
       "0        10194.0            Toy Story Collection   \n",
       "1            NaN                            None   \n",
       "2       119050.0       Grumpy Old Men Collection   \n",
       "3            NaN                            None   \n",
       "4        96871.0  Father of the Bride Collection   \n",
       "\n",
       "             collection_poster_path  \n",
       "0  /7G9915LfUQ2lVfwMEEhDsn3kT4B.jpg  \n",
       "1                              None  \n",
       "2  /nLvUdqgPgm3F85NMCii9gVFUcet.jpg  \n",
       "3                              None  \n",
       "4  /nts4iOmNnq7GNicycMJ9pSAn204.jpg  \n",
       "\n",
       "[5 rows x 34 columns]"
      ]
     },
     "execution_count": 37,
     "metadata": {},
     "output_type": "execute_result"
    }
   ],
   "source": [
    "movies.head(5) #Chequeamos que se hayan eliminado."
   ]
  },
  {
   "cell_type": "code",
   "execution_count": 38,
   "metadata": {},
   "outputs": [],
   "source": [
    "movies.to_csv('movies_dataset.csv', index=False)"
   ]
  },
  {
   "cell_type": "code",
   "execution_count": 39,
   "metadata": {},
   "outputs": [],
   "source": [
    "movies_credits['cast'] = movies_credits['cast'].apply(lambda x: eval(x) if isinstance(x, str) else x)  #Convertimos de cadena a lista si es necesario"
   ]
  },
  {
   "cell_type": "code",
   "execution_count": 40,
   "metadata": {},
   "outputs": [],
   "source": [
    "movies_credits['cast'] = movies_credits['cast'].apply(lambda x: [item for item in x if isinstance(item, dict) and item])\n",
    "cast_expanded = movies_credits['cast'].explode() #Filtramos diccionarios vacíos y desanidamos"
   ]
  },
  {
   "cell_type": "code",
   "execution_count": 41,
   "metadata": {},
   "outputs": [],
   "source": [
    "cast_df = pd.json_normalize(cast_expanded) #Convertimos la lista de diccionarios a un DataFrame"
   ]
  },
  {
   "cell_type": "code",
   "execution_count": 42,
   "metadata": {},
   "outputs": [],
   "source": [
    "movies_credits = movies_credits.merge(cast_df, left_index=True, right_index=True, suffixes=('', '_cast')) #Unimos el DF desanidado con el DF original"
   ]
  },
  {
   "cell_type": "code",
   "execution_count": 43,
   "metadata": {},
   "outputs": [
    {
     "name": "stdout",
     "output_type": "stream",
     "text": [
      "0    [{'cast_id': 14, 'character': 'Woody (voice)',...\n",
      "1    [{'cast_id': 1, 'character': 'Alan Parrish', '...\n",
      "2    [{'cast_id': 2, 'character': 'Max Goldman', 'c...\n",
      "3    [{'cast_id': 1, 'character': 'Savannah 'Vannah...\n",
      "4    [{'cast_id': 1, 'character': 'George Banks', '...\n",
      "Name: cast, dtype: object\n"
     ]
    }
   ],
   "source": [
    "print(movies_credits['cast'].head())"
   ]
  },
  {
   "cell_type": "code",
   "execution_count": 44,
   "metadata": {},
   "outputs": [],
   "source": [
    "movies_credits['crew'] = movies_credits['crew'].apply(lambda x: eval(x) if isinstance(x, str) else x) #Repetimos para 'crew'"
   ]
  },
  {
   "cell_type": "code",
   "execution_count": 45,
   "metadata": {},
   "outputs": [],
   "source": [
    "crew_expanded = movies_credits['crew'].explode()\n",
    "crew_df = pd.json_normalize(crew_expanded)"
   ]
  },
  {
   "cell_type": "code",
   "execution_count": 46,
   "metadata": {},
   "outputs": [],
   "source": [
    "movies_credits = movies_credits.merge(crew_df, left_index=True, right_index=True, suffixes=('', '_crew'))"
   ]
  },
  {
   "cell_type": "code",
   "execution_count": 47,
   "metadata": {},
   "outputs": [
    {
     "name": "stdout",
     "output_type": "stream",
     "text": [
      "0    [{'credit_id': '52fe4284c3a36847f8024f49', 'de...\n",
      "1    [{'credit_id': '52fe44bfc3a36847f80a7cd1', 'de...\n",
      "2    [{'credit_id': '52fe466a9251416c75077a89', 'de...\n",
      "3    [{'credit_id': '52fe44779251416c91011acb', 'de...\n",
      "4    [{'credit_id': '52fe44959251416c75039ed7', 'de...\n",
      "Name: crew, dtype: object\n"
     ]
    }
   ],
   "source": [
    "print(movies_credits['crew'].head())"
   ]
  },
  {
   "cell_type": "code",
   "execution_count": 48,
   "metadata": {},
   "outputs": [],
   "source": [
    "movies_credits.to_csv('credits.csv', index=False)"
   ]
  }
 ],
 "metadata": {
  "kernelspec": {
   "display_name": "Python 3",
   "language": "python",
   "name": "python3"
  },
  "language_info": {
   "codemirror_mode": {
    "name": "ipython",
    "version": 3
   },
   "file_extension": ".py",
   "mimetype": "text/x-python",
   "name": "python",
   "nbconvert_exporter": "python",
   "pygments_lexer": "ipython3",
   "version": "3.12.1"
  }
 },
 "nbformat": 4,
 "nbformat_minor": 2
}
