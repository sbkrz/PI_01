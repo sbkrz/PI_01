{
 "cells": [
  {
   "cell_type": "code",
   "execution_count": 1,
   "metadata": {},
   "outputs": [],
   "source": [
    "import pandas as pd\n",
    "import json"
   ]
  },
  {
   "cell_type": "code",
   "execution_count": 2,
   "metadata": {},
   "outputs": [],
   "source": [
    "movies = pd.read_csv('./movies_dataset.csv')"
   ]
  },
  {
   "cell_type": "code",
   "execution_count": 3,
   "metadata": {},
   "outputs": [],
   "source": [
    "movies_credits = pd.read_csv('./credits.csv')"
   ]
  },
  {
   "cell_type": "code",
   "execution_count": 4,
   "metadata": {},
   "outputs": [],
   "source": [
    "def cantidad_filmaciones_mes(mes):\n",
    "    meses_ingles = {\n",
    "        'enero': 'January',\n",
    "        'febrero': 'February',\n",
    "        'marzo': 'March',\n",
    "        'abril': 'April',\n",
    "        'mayo': 'May',\n",
    "        'junio': 'June',\n",
    "        'julio': 'July',\n",
    "        'agosto': 'August',\n",
    "        'septiembre': 'September',\n",
    "        'octubre': 'October',\n",
    "        'noviembre': 'November',\n",
    "        'diciembre': 'December'\n",
    "    } #Mapeo de nombres de meses en español a nombres en inglés\n",
    "    mes_en_ingles = meses_ingles.get(mes.lower()) #Convertimos el nombre del mes a minúsculas y buscar el nombre en inglés\n",
    "    if mes_en_ingles is None:\n",
    "        return \"Mes no válido. Por favor, ingrese un mes válido en español.\"\n",
    "    movies['release_date'] = pd.to_datetime(movies['release_date'], errors='coerce') #Convertimos el campo release_date a tipo datetime para extraer el mes en inglés\n",
    "    movies_mes = movies[movies['release_date'].dt.strftime('%B').str.lower() == mes_en_ingles.lower()] # Filtramos las películas que tienen release_date válida y coinciden con el mes dado\n",
    "    cantidad = len(movies_mes) #Contamos la cantidad de películas\n",
    "    \n",
    "    return f\"{cantidad} películas fueron estrenadas en el mes de {mes.capitalize()}.\""
   ]
  },
  {
   "cell_type": "code",
   "execution_count": 5,
   "metadata": {},
   "outputs": [
    {
     "data": {
      "text/plain": [
       "'5912 películas fueron estrenadas en el mes de Enero.'"
      ]
     },
     "execution_count": 5,
     "metadata": {},
     "output_type": "execute_result"
    }
   ],
   "source": [
    "cantidad_filmaciones_mes('Enero')"
   ]
  },
  {
   "cell_type": "code",
   "execution_count": 6,
   "metadata": {},
   "outputs": [],
   "source": [
    "def cantidad_filmaciones_dia(Dia):\n",
    "    dias_ingles = {\n",
    "        'lunes': 'Monday',\n",
    "        'martes': 'Tuesday',\n",
    "        'miércoles': 'Wednesday',\n",
    "        'jueves': 'Thursday',\n",
    "        'viernes': 'Friday',\n",
    "        'sábado': 'Saturday',\n",
    "        'domingo': 'Sunday',\n",
    "    } # Mapeo de nombres de días en español a nombres en inglés\n",
    "    \n",
    "    dias_en_ingles = dias_ingles.get(Dia.lower()) # Convertimos el nombre del día a minúsculas y buscamos el nombre en inglés\n",
    "    if dias_en_ingles is None:\n",
    "        return \"Día no válido. Por favor, ingrese un día válido en español.\"\n",
    "    \n",
    "    movies['release_date'] = pd.to_datetime(movies['release_date'], errors='coerce') # Convertimos el campo release_date a tipo datetime para extraer el día de la semana en inglés\n",
    "    movies_dia = movies[movies['release_date'].dt.strftime('%A').str.lower() == dias_en_ingles.lower()] # Filtramos las películas que tienen release_date válida y coinciden con el día dado\n",
    "    cantidad = len(movies_dia) # Contamos la cantidad de películas\n",
    "    \n",
    "    return f\"{cantidad} películas fueron estrenadas en el día {Dia.capitalize()}.\""
   ]
  },
  {
   "cell_type": "code",
   "execution_count": 7,
   "metadata": {},
   "outputs": [
    {
     "data": {
      "text/plain": [
       "'7035 películas fueron estrenadas en el día Miércoles.'"
      ]
     },
     "execution_count": 7,
     "metadata": {},
     "output_type": "execute_result"
    }
   ],
   "source": [
    "cantidad_filmaciones_dia('miércoles')"
   ]
  },
  {
   "cell_type": "code",
   "execution_count": 8,
   "metadata": {},
   "outputs": [],
   "source": [
    "def score_titulo(titulo_de_la_filmacion):\n",
    "    movie = movies[movies['title'].str.lower() == titulo_de_la_filmacion.lower()] \n",
    "    \n",
    "    if movie.empty:\n",
    "        return f\"No se encontró la película con el título '{titulo_de_la_filmacion}' en la base de datos.\"\n",
    "    \n",
    "    title = movie['title'].values[0]\n",
    "    release_year = movie['release_year'].values[0]\n",
    "    score = movie['popularity'].values[0]\n",
    "    \n",
    "    return f\"La película '{title}' fue estrenada en el año {release_year} con un score/popularidad de {score}.\""
   ]
  },
  {
   "cell_type": "code",
   "execution_count": 9,
   "metadata": {},
   "outputs": [
    {
     "data": {
      "text/plain": [
       "\"La película 'Toy Story' fue estrenada en el año 1995 con un score/popularidad de 21.946943.\""
      ]
     },
     "execution_count": 9,
     "metadata": {},
     "output_type": "execute_result"
    }
   ],
   "source": [
    "score_titulo('Toy Story')"
   ]
  },
  {
   "cell_type": "code",
   "execution_count": 10,
   "metadata": {},
   "outputs": [],
   "source": [
    "def votos_titulo(titulo_de_la_filmacion):\n",
    "    pelicula = movies[movies['title'].str.lower() == titulo_de_la_filmacion.lower()] #Buscamos la película por título\n",
    "    \n",
    "    if pelicula.empty:\n",
    "        return f\"No se encontró ninguna película con el título '{titulo_de_la_filmacion}'.\"\n",
    "    \n",
    "    votos_totales = pelicula['vote_count'].iloc[0]\n",
    "    if votos_totales < 2000: #Verificamos si tiene al menos 2000 valoraciones\n",
    "        return f\"La película '{titulo_de_la_filmacion}' tiene menos de 2000 valoraciones ({votos_totales} valoraciones en total). No cumple con la condición requerida.\"\n",
    "    \n",
    "    promedio_votos = pelicula['vote_average'].iloc[0] #Calculamos el promedio de votos\n",
    "    \n",
    "    mensaje = f\"La película '{titulo_de_la_filmacion}' fue estrenada en el año {pelicula['release_year'].iloc[0]}. \"\n",
    "    mensaje += f\"La misma cuenta con un total de {votos_totales} valoraciones, con un promedio de {promedio_votos:.1f}.\"\n",
    "    \n",
    "    return mensaje\n"
   ]
  },
  {
   "cell_type": "code",
   "execution_count": 11,
   "metadata": {},
   "outputs": [
    {
     "data": {
      "text/plain": [
       "\"La película 'Jumanji' fue estrenada en el año 1995. La misma cuenta con un total de 2413.0 valoraciones, con un promedio de 6.9.\""
      ]
     },
     "execution_count": 11,
     "metadata": {},
     "output_type": "execute_result"
    }
   ],
   "source": [
    "votos_titulo('Jumanji')"
   ]
  },
  {
   "cell_type": "code",
   "execution_count": 12,
   "metadata": {},
   "outputs": [],
   "source": [
    "def load_json(x):\n",
    "    if isinstance(x, str):  \n",
    "        try:\n",
    "            return json.loads(x.replace(\"'\", '\"'))\n",
    "        except json.JSONDecodeError:\n",
    "            return []\n",
    "    return []"
   ]
  },
  {
   "cell_type": "code",
   "execution_count": 13,
   "metadata": {},
   "outputs": [],
   "source": [
    "movies_credits['cast'] = movies_credits['cast'].apply(load_json)"
   ]
  },
  {
   "cell_type": "code",
   "execution_count": 14,
   "metadata": {},
   "outputs": [],
   "source": [
    "def get_actor(nombre_actor):\n",
    "    actor_found = False\n",
    "    total_films = 0\n",
    "    total_return = 0.0\n",
    "\n",
    "    for index, row in movies_credits.iterrows():\n",
    "            for actor in row['cast']:\n",
    "                if actor['name'] == nombre_actor:\n",
    "                    actor_found = True\n",
    "                    total_films += 1\n",
    "                    total_return += row.get('return', 0.0)\n",
    "\n",
    "    if not actor_found:\n",
    "            return f\"El actor {nombre_actor} no ha sido encontrado en el dataset.\"\n",
    "\n",
    "    if total_films == 0:\n",
    "            return f\"El actor {nombre_actor} no ha participado en ninguna filmación.\"\n",
    "\n",
    "    average_return = total_return / total_films\n",
    "    return f\"El actor {nombre_actor} ha participado en {total_films} filmaciones. Ha conseguido un retorno total de {total_return} con un promedio de {average_return} por filmación.\""
   ]
  },
  {
   "cell_type": "code",
   "execution_count": 15,
   "metadata": {},
   "outputs": [
    {
     "data": {
      "text/plain": [
       "'El actor Tom Hanks ha participado en 15 filmaciones. Ha conseguido un retorno total de 0.0 con un promedio de 0.0 por filmación.'"
      ]
     },
     "execution_count": 15,
     "metadata": {},
     "output_type": "execute_result"
    }
   ],
   "source": [
    "get_actor('Tom Hanks')"
   ]
  },
  {
   "cell_type": "code",
   "execution_count": 16,
   "metadata": {},
   "outputs": [],
   "source": [
    "def get_director(nombre_director):\n",
    "    nombre_director = nombre_director.lower() #Convertimos el nombre del director a minúsculas para una comparación sin distinción entre mayúsculas y minúsculas\n",
    "    peliculas_director = [] # Creamos una lista vacía para almacenar las películas del director\n",
    "\n",
    "    for index, row in movies_credits.iterrows(): #Recorremos cada fila del dataframe movies_credits\n",
    "        crew = load_json(row['crew'])  #Convertimos la cadena JSON de 'crew' a un diccionario usando load_json\n",
    "        \n",
    "        if isinstance(crew, list): #Verificamos si el director está en el crew y si es un director\n",
    "            for member in crew:\n",
    "                if member['job'].lower() == 'director' and nombre_director in member['name'].lower():\n",
    "                    #Encontramos al director, obtener información de la película\n",
    "                    movie_info = {\n",
    "                        'titulo': row['title'],\n",
    "                        'fecha_lanzamiento': row['release_date'],\n",
    "                        'retorno': row['return'],\n",
    "                        'costo': row['budget'],\n",
    "                        'ganancia': row['revenue']\n",
    "                    }\n",
    "                    peliculas_director.append(movie_info)\n",
    "                    break  #Salimos del bucle interno si encontramos al director\n",
    "    \n",
    "    if len(peliculas_director) > 0: #Verificamos si encontramos alguna película del director\n",
    "        mensaje_retorno = f\"El director {nombre_director.capitalize()} ha dirigido las siguientes películas:\\n\"\n",
    "        for pelicula in peliculas_director:\n",
    "            mensaje_retorno += f\"Título: {pelicula['titulo']}, Fecha de Lanzamiento: {pelicula['fecha_lanzamiento']}, \" \\\n",
    "                               f\"Retorno: {pelicula['retorno']}, Costo: {pelicula['costo']}, Ganancia: {pelicula['ganancia']}\\n\"\n",
    "    else:\n",
    "        mensaje_retorno = f\"El director {nombre_director.capitalize()} no ha dirigido ninguna película.\"\n",
    "    \n",
    "    return mensaje_retorno"
   ]
  },
  {
   "cell_type": "code",
   "execution_count": 18,
   "metadata": {},
   "outputs": [
    {
     "data": {
      "text/plain": [
       "'El director Al pacino no ha dirigido ninguna película.'"
      ]
     },
     "execution_count": 18,
     "metadata": {},
     "output_type": "execute_result"
    }
   ],
   "source": [
    "get_director('Al Pacino')"
   ]
  }
 ],
 "metadata": {
  "kernelspec": {
   "display_name": "Python 3",
   "language": "python",
   "name": "python3"
  },
  "language_info": {
   "codemirror_mode": {
    "name": "ipython",
    "version": 3
   },
   "file_extension": ".py",
   "mimetype": "text/x-python",
   "name": "python",
   "nbconvert_exporter": "python",
   "pygments_lexer": "ipython3",
   "version": "3.12.1"
  }
 },
 "nbformat": 4,
 "nbformat_minor": 2
}
